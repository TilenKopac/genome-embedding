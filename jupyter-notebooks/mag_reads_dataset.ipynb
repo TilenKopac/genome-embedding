{
 "cells": [
  {
   "cell_type": "code",
   "execution_count": 1,
   "outputs": [],
   "source": [
    "import os\n",
    "import pickle\n",
    "from collections import defaultdict"
   ],
   "metadata": {
    "collapsed": false
   }
  },
  {
   "cell_type": "code",
   "execution_count": 2,
   "outputs": [],
   "source": [
    "project_dir = \"/d/hpc/home/tcurk/tkopac/genome-embedding\"\n",
    "data_dir = os.path.join(project_dir, \"data\", \"deepmicrobes_mag_reads\")"
   ],
   "metadata": {
    "collapsed": false
   }
  },
  {
   "cell_type": "markdown",
   "source": [
    "## Taxonomy data preparation"
   ],
   "metadata": {
    "collapsed": false
   }
  },
  {
   "cell_type": "markdown",
   "source": [
    "Just like with our other taxonomy datasets, a dictionaries of organisms' taxa and taxa's one-hot encoding indices have to be prepared, before the data can be used to train taxonomy classifiers."
   ],
   "metadata": {
    "collapsed": false
   }
  },
  {
   "cell_type": "code",
   "execution_count": 3,
   "outputs": [],
   "source": [
    "organism_taxa = defaultdict(dict)\n",
    "ranks = [\"phylum\", \"class\", \"order\", \"family\", \"genus\", \"species\"]\n",
    "taxa_index = {r: {} for r in ranks}\n",
    "rank_counters = {r: 0 for r in ranks}"
   ],
   "metadata": {
    "collapsed": false
   }
  },
  {
   "cell_type": "code",
   "execution_count": 4,
   "outputs": [],
   "source": [
    "with open(os.path.join(data_dir, \"metadata_gut-derived_MAGs.txt\"), \"rt\") as in_file:\n",
    "    in_file.readline()\n",
    "    in_file.readline()\n",
    "    for line in in_file:\n",
    "        fields = line.strip().split(\"\\t\")\n",
    "        org_id = fields[0]\n",
    "        species_id = fields[3]\n",
    "        phylum, cls, order, family, genus = fields[7:12]\n",
    "\n",
    "        # if any of organism's taxa are unknown, skip it\n",
    "        if phylum == \"Unassigned\" or cls == \"Unassigned\" or order == \"Unassigned\" or family == \"Unassigned\" or genus == \"Unassigned\":\n",
    "            continue\n",
    "\n",
    "        # store organism's taxa at all available ranks\n",
    "        organism_taxa[org_id] = {\"phylum\": phylum, \"class\": cls, \"order\": order,\n",
    "                                 \"family\": family, \"genus\": genus, \"species\": species_id}\n",
    "\n",
    "        # add new taxa to the taxa index\n",
    "        for rank in ranks:\n",
    "            taxon = organism_taxa[org_id][rank]\n",
    "            if taxon not in taxa_index[rank]:\n",
    "                taxa_index[rank][taxon] = rank_counters[rank]\n",
    "                rank_counters[rank] += 1\n",
    "\n",
    "organism_taxa = dict(organism_taxa)"
   ],
   "metadata": {
    "collapsed": false
   }
  },
  {
   "cell_type": "code",
   "execution_count": 5,
   "outputs": [
    {
     "data": {
      "text/plain": "2550"
     },
     "execution_count": 5,
     "metadata": {},
     "output_type": "execute_result"
    }
   ],
   "source": [
    "len(organism_taxa)"
   ],
   "metadata": {
    "collapsed": false
   }
  },
  {
   "cell_type": "code",
   "execution_count": 6,
   "outputs": [
    {
     "name": "stdout",
     "output_type": "stream",
     "text": [
      "No. of \"phylum\" taxa: 8\n",
      "No. of \"class\" taxa: 13\n",
      "No. of \"order\" taxa: 17\n",
      "No. of \"family\" taxa: 29\n",
      "No. of \"genus\" taxa: 47\n",
      "No. of \"species\" taxa: 159\n"
     ]
    }
   ],
   "source": [
    "for rank in ranks:\n",
    "    print(f\"No. of \\\"{rank}\\\" taxa: {len(set([taxa[rank] for taxa in organism_taxa.values()]))}\")"
   ],
   "metadata": {
    "collapsed": false
   }
  },
  {
   "cell_type": "markdown",
   "source": [
    "organism_taxa dictionary holds information about each organism's taxa at different taxonomic ranks."
   ],
   "metadata": {
    "collapsed": false
   }
  },
  {
   "cell_type": "code",
   "execution_count": 7,
   "outputs": [
    {
     "data": {
      "text/plain": "{'phylum': 'Firmicutes',\n 'class': 'Bacilli',\n 'order': 'Lactobacillales',\n 'family': 'Lactobacillaceae',\n 'genus': 'Lactobacillus',\n 'species': '228'}"
     },
     "execution_count": 7,
     "metadata": {},
     "output_type": "execute_result"
    }
   ],
   "source": [
    "organism_taxa[\"MAG-GUT1024\"]"
   ],
   "metadata": {
    "collapsed": false
   }
  },
  {
   "cell_type": "markdown",
   "source": [
    "taxa_index dictionary is used for one-hot encoding target classes."
   ],
   "metadata": {
    "collapsed": false
   }
  },
  {
   "cell_type": "code",
   "execution_count": 8,
   "outputs": [
    {
     "data": {
      "text/plain": "{'Actinobacteria': 0,\n 'Firmicutes': 1,\n 'Bacteroidetes': 2,\n 'Verrucomicrobia': 3,\n 'Proteobacteria': 4,\n 'Tenericutes': 5,\n 'Spirochaetes': 6,\n 'Fusobacteria': 7}"
     },
     "execution_count": 8,
     "metadata": {},
     "output_type": "execute_result"
    }
   ],
   "source": [
    "taxa_index[\"phylum\"]"
   ],
   "metadata": {
    "collapsed": false
   }
  },
  {
   "cell_type": "code",
   "execution_count": 9,
   "outputs": [],
   "source": [
    "with open(os.path.join(data_dir, \"organism_taxa.pkl\"), \"wb\") as in_file:\n",
    "    pickle.dump(organism_taxa, in_file)\n",
    "with open(os.path.join(data_dir, \"taxa_index.pkl\"), \"wb\") as in_file:\n",
    "    pickle.dump(taxa_index, in_file)"
   ],
   "metadata": {
    "collapsed": false
   }
  }
 ],
 "metadata": {
  "kernelspec": {
   "display_name": "Python 3",
   "language": "python",
   "name": "python3"
  },
  "language_info": {
   "codemirror_mode": {
    "name": "ipython",
    "version": 2
   },
   "file_extension": ".py",
   "mimetype": "text/x-python",
   "name": "python",
   "nbconvert_exporter": "python",
   "pygments_lexer": "ipython2",
   "version": "2.7.6"
  }
 },
 "nbformat": 4,
 "nbformat_minor": 0
}
