{
 "cells": [
  {
   "cell_type": "code",
   "execution_count": 1,
   "outputs": [],
   "source": [
    "import os\n",
    "import pickle\n",
    "\n",
    "import matplotlib.pyplot as plt\n",
    "import seaborn as sns\n",
    "import tensorflow as tf\n",
    "from Bio import SeqIO\n",
    "from tqdm.notebook import tqdm"
   ],
   "metadata": {
    "collapsed": false
   }
  },
  {
   "cell_type": "code",
   "execution_count": 2,
   "outputs": [],
   "source": [
    "project_dir = \"C:\\\\Users\\\\tilenkopac\\\\Projects\\\\genome-embedding\"\n",
    "data_dir = os.path.join(project_dir, \"data\", \"deepmicrobes_mock_communities\")\n",
    "models_dir = os.path.join(project_dir, \"models\")\n",
    "autoencoder_name = \"661k_conv_small_elu_loc_pres_ld10_ws100_take_2\"\n",
    "sampler_name = \"no-sampler\""
   ],
   "metadata": {
    "collapsed": false
   }
  },
  {
   "cell_type": "code",
   "execution_count": 17,
   "outputs": [
    {
     "name": "stdout",
     "output_type": "stream",
     "text": [
      "WARNING:tensorflow:No training configuration found in save file, so the model was *not* compiled. Compile it manually.\n",
      "WARNING:tensorflow:No training configuration found in save file, so the model was *not* compiled. Compile it manually.\n",
      "Classifier output size: 46\n"
     ]
    }
   ],
   "source": [
    "# models\n",
    "autoencoder = tf.keras.models.load_model(os.path.join(models_dir, \"autoencoders\", autoencoder_name))\n",
    "encoder = autoencoder.encoder\n",
    "classifier = tf.keras.models.load_model(os.path.join(models_dir, \"classifiers\", autoencoder_name, sampler_name,\n",
    "                                                     \"mag-reads-genus-classifier-4-layers-32-units\"))\n",
    "print(f\"Classifier output size: {classifier.layers[0].layers[-1].output.shape[-1]}\")\n",
    "\n",
    "# data\n",
    "mag_reads_data_dir = os.path.join(project_dir, \"data\", \"deepmicrobes_mag_reads\")\n",
    "with open(os.path.join(mag_reads_data_dir, \"taxa_index.pkl\"), \"rb\") as file:\n",
    "    taxa_index = pickle.load(file)"
   ],
   "metadata": {
    "collapsed": false
   }
  },
  {
   "cell_type": "code",
   "execution_count": 18,
   "outputs": [],
   "source": [
    "organism_taxa = {}\n",
    "with open(os.path.join(data_dir, \"community_supplementary_data.csv\"), \"rt\") as file:\n",
    "    file.readline()\n",
    "    file.readline()\n",
    "    for line in file:\n",
    "        fields = line.split(\";\")\n",
    "        org_id = fields[0]\n",
    "        org_taxon = taxa_index[\"genus\"].get(fields[2], -1)\n",
    "        organism_taxa[org_id] = org_taxon"
   ],
   "metadata": {
    "collapsed": false
   }
  },
  {
   "cell_type": "code",
   "execution_count": 19,
   "outputs": [],
   "source": [
    "nuc_onehot_enc = {\n",
    "    \"A\": [1.0, 0.0, 0.0, 0.0],\n",
    "    \"G\": [0.0, 1.0, 0.0, 0.0],\n",
    "    \"C\": [0.0, 0.0, 1.0, 0.0],\n",
    "    \"T\": [0.0, 0.0, 0.0, 1.0],\n",
    "    \"N\": [0.0, 0.0, 0.0, 0.0]}\n",
    "\n",
    "\n",
    "def preprocess_seq(seq):\n",
    "    # cut sequence to correct length\n",
    "    seq = seq[:100]\n",
    "\n",
    "    # one-hot encode nucleotides\n",
    "    encoded = [nuc_onehot_enc[nuc] for nuc in seq]\n",
    "\n",
    "    return encoded"
   ],
   "metadata": {
    "collapsed": false
   }
  },
  {
   "cell_type": "code",
   "execution_count": 20,
   "outputs": [
    {
     "data": {
      "text/plain": "  0%|          | 0/10000000 [00:00<?, ?it/s]",
      "application/vnd.jupyter.widget-view+json": {
       "version_major": 2,
       "version_minor": 0,
       "model_id": "0851f3fdbb3648bebba1f38a53d795c6"
      }
     },
     "metadata": {},
     "output_type": "display_data"
    }
   ],
   "source": [
    "n_reads = 10000000\n",
    "reads_preprocessed = []\n",
    "labels = []\n",
    "unknown_taxa_count = 0\n",
    "with open(os.path.join(data_dir, \"mock_metagenome_01.1.fq\"), \"rt\") as file:\n",
    "    reads = SeqIO.parse(file, \"fastq\")\n",
    "    for i, read in tqdm(enumerate(reads), total=n_reads):\n",
    "        if len(read) >= 100:\n",
    "            org_taxon = organism_taxa[read.id.split(\".\")[0]]\n",
    "            if org_taxon != -1:\n",
    "                # organism's taxon is in the set of taxa known by the classifier\n",
    "                reads_preprocessed.append(preprocess_seq(read.seq))\n",
    "                labels.append(org_taxon)\n",
    "            else:\n",
    "                # organism's taxon is not known by the classifier\n",
    "                unknown_taxa_count += 1\n",
    "\n",
    "        # if i == 100000:\n",
    "        #     break"
   ],
   "metadata": {
    "collapsed": false
   }
  },
  {
   "cell_type": "code",
   "execution_count": 21,
   "outputs": [
    {
     "data": {
      "text/plain": "0.1404781"
     },
     "execution_count": 21,
     "metadata": {},
     "output_type": "execute_result"
    }
   ],
   "source": [
    "unknown_taxa_count / n_reads"
   ],
   "metadata": {
    "collapsed": false
   }
  },
  {
   "cell_type": "code",
   "execution_count": 22,
   "outputs": [
    {
     "data": {
      "text/plain": "  0%|          | 0/2035 [00:00<?, ?it/s]",
      "application/vnd.jupyter.widget-view+json": {
       "version_major": 2,
       "version_minor": 0,
       "model_id": "c18cd74243b245bdb1b7647ca9f4b64f"
      }
     },
     "metadata": {},
     "output_type": "display_data"
    }
   ],
   "source": [
    "predictions = []\n",
    "for i in tqdm(range(0, len(reads_preprocessed), 4096)):\n",
    "    embeddings = encoder(tf.constant(reads_preprocessed[i:i + 4096]))\n",
    "    predictions.extend(tf.argmax(classifier(embeddings), axis=-1).numpy())"
   ],
   "metadata": {
    "collapsed": false
   }
  },
  {
   "cell_type": "code",
   "execution_count": 23,
   "outputs": [],
   "source": [
    "conf_mat = tf.math.confusion_matrix(labels[:len(predictions)], predictions).numpy()"
   ],
   "metadata": {
    "collapsed": false
   }
  },
  {
   "cell_type": "code",
   "execution_count": 38,
   "outputs": [
    {
     "name": "stdout",
     "output_type": "stream",
     "text": [
      "0.0038691861113917623\n"
     ]
    },
    {
     "data": {
      "text/plain": "Text(88.0, 0.5, 'Labels')"
     },
     "execution_count": 38,
     "metadata": {},
     "output_type": "execute_result"
    },
    {
     "data": {
      "text/plain": "<Figure size 864x720 with 2 Axes>",
      "image/png": "[encoded data removed]"
     },
     "metadata": {},
     "output_type": "display_data"
    }
   ],
   "source": [
    "print(sum(conf_mat.diagonal()) / sum(conf_mat.flatten()))\n",
    "\n",
    "fig, ax = plt.subplots(figsize=(12, 10))\n",
    "sns.heatmap(conf_mat, ax=ax, cmap='Oranges_r')\n",
    "ax.set_xlabel(\"Predictions\", fontsize=16)\n",
    "ax.set_ylabel(\"Labels\", fontsize=16)"
   ],
   "metadata": {
    "collapsed": false
   }
  },
  {
   "cell_type": "code",
   "execution_count": null,
   "outputs": [],
   "source": [],
   "metadata": {
    "collapsed": false
   }
  }
 ],
 "metadata": {
  "kernelspec": {
   "display_name": "Python 3",
   "language": "python",
   "name": "python3"
  },
  "language_info": {
   "codemirror_mode": {
    "name": "ipython",
    "version": 2
   },
   "file_extension": ".py",
   "mimetype": "text/x-python",
   "name": "python",
   "nbconvert_exporter": "python",
   "pygments_lexer": "ipython2",
   "version": "2.7.6"
  }
 },
 "nbformat": 4,
 "nbformat_minor": 0
}
